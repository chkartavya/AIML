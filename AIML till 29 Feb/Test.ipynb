{
 "cells": [
  {
   "cell_type": "markdown",
   "id": "01d46824",
   "metadata": {},
   "source": [
    "# Write a function in python to calculate the median of the list of numerical values without using any external libraries."
   ]
  },
  {
   "cell_type": "code",
   "execution_count": 13,
   "id": "f1d2a04a",
   "metadata": {},
   "outputs": [
    {
     "name": "stdout",
     "output_type": "stream",
     "text": [
      "5\n"
     ]
    }
   ],
   "source": [
    "li=[1,2,3,4,5,6,7,8,9]\n",
    "li.sort()\n",
    "\n",
    "if(len(li)%2==0):\n",
    "    print(li[len(li)//2]+li[(len(li)//2)-1])/2\n",
    "else:\n",
    "    print(li[len(li)//2])\n",
    "print(median)"
   ]
  },
  {
   "cell_type": "markdown",
   "id": "80205839",
   "metadata": {},
   "source": [
    "# Write a function in python to remove the duplicate element from the list"
   ]
  },
  {
   "cell_type": "code",
   "execution_count": 4,
   "id": "4ad1bcd3",
   "metadata": {},
   "outputs": [
    {
     "data": {
      "text/plain": [
       "[1, 2, 3, 4, 5, 6]"
      ]
     },
     "execution_count": 4,
     "metadata": {},
     "output_type": "execute_result"
    }
   ],
   "source": [
    "li=[1,2,3,4,5,5,6]\n",
    "li1=[]\n",
    "for i in range(len(li)):\n",
    "    if li[i] not in li1:\n",
    "        li1.append(li[i])\n",
    "li1"
   ]
  },
  {
   "cell_type": "markdown",
   "id": "1929a3a8",
   "metadata": {},
   "source": [
    "# Write a python script to read a text file named \"input.txt\", count the frequency of each word, and write the results to another text file named \"output.txt\"\n",
    "\n",
    "input.txt file contains\n",
    "hello hello\n",
    "Machine learning\n",
    "Artifical Intelligence\n",
    "\n",
    "output.txt file will look like this\n",
    "hello: 2\n",
    "Machine : 1\n",
    "learning : 1\n",
    "Artifical : 1\n",
    "Intelligence : 1"
   ]
  },
  {
   "cell_type": "code",
   "execution_count": 40,
   "id": "13540cc9",
   "metadata": {},
   "outputs": [
    {
     "data": {
      "text/plain": [
       "{'hello': 2,\n",
       " '': 2,\n",
       " 'Machine': 1,\n",
       " 'learning': 1,\n",
       " 'Artifical': 1,\n",
       " 'Intelligence': 1}"
      ]
     },
     "execution_count": 40,
     "metadata": {},
     "output_type": "execute_result"
    }
   ],
   "source": [
    "data={}\n",
    "with open('input.txt','r') as file:\n",
    "    for i in file:\n",
    "        i= i.split('\\n')\n",
    "        for j in i:\n",
    "            j=j.split(' ')\n",
    "            for k in j:\n",
    "                if k not in data:\n",
    "                    data[k]=1\n",
    "                else:\n",
    "                    data[k]+=1\n",
    "data"
   ]
  },
  {
   "cell_type": "markdown",
   "id": "db37afd0",
   "metadata": {},
   "source": [
    "# Write a python function to handle the exception raised when dividing a number by zero and print a custom error message."
   ]
  },
  {
   "cell_type": "code",
   "execution_count": 29,
   "id": "6cb7e632",
   "metadata": {},
   "outputs": [
    {
     "name": "stdout",
     "output_type": "stream",
     "text": [
      "Something went wrong\n"
     ]
    }
   ],
   "source": [
    "def error(a,b):\n",
    "    try:\n",
    "        print(a/b)\n",
    "    except ZeroDivisionError:\n",
    "        print('Something went wrong')\n",
    "\n",
    "error(2,0)"
   ]
  }
 ],
 "metadata": {
  "kernelspec": {
   "display_name": "Python 3 (ipykernel)",
   "language": "python",
   "name": "python3"
  },
  "language_info": {
   "codemirror_mode": {
    "name": "ipython",
    "version": 3
   },
   "file_extension": ".py",
   "mimetype": "text/x-python",
   "name": "python",
   "nbconvert_exporter": "python",
   "pygments_lexer": "ipython3",
   "version": "3.11.5"
  }
 },
 "nbformat": 4,
 "nbformat_minor": 5
}
